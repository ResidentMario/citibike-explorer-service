{
 "cells": [
  {
   "cell_type": "markdown",
   "metadata": {},
   "source": [
    "## Implementing Mutual TLS Notes"
   ]
  },
  {
   "cell_type": "markdown",
   "metadata": {},
   "source": [
    "This notebook and repo step through building a demo application that implements mutual TLS. All of the material here comes from the following blog post: [\"Implementing Mutual SSL Authentication\"](https://blog.cloudboost.io/implementing-mutual-ssl-authentication-fc20ab2392b3). I'm stepping through this tutorial (with modifications) for two reasons:\n",
    "\n",
    "* To see an implementation of mutual TLS.\n",
    "* To see how UNIX tools can be used to generate self-signed certificates suitable for use within microservice application boundaries.\n",
    "\n",
    "For detailed notes on public key cryptography more generally see [\"Notes on public key infrastructure\"](https://www.kaggle.com/residentmario/notes-on-public-key-infrastructure)."
   ]
  },
  {
   "cell_type": "markdown",
   "metadata": {},
   "source": [
    "### Generate a client RSA private key\n",
    "\n",
    "RSA is the original asymmetric cryptography algorithm. These days it has been superseded in web usage by so-called elliptical curve algorithms, which are considered stronger and more secure, but are also more computationally intensive.\n",
    "\n",
    "We begin by generating an RSA public key and private key pair (in the home directory of this repo). This is done by running the following:\n",
    "\n",
    "```\n",
    "openssl genrsa 2048 > client_rsa_key.key\n",
    "```\n",
    "\n",
    "### Generate a client cert\n",
    "\n",
    "PEM is the payload format for the private key, but it needs to be wrapped in additional metadata and binary-encoded for efficiency. The format for this is X.509 and the extention of the output is `.cert`.\n",
    "\n",
    "```\n",
    "openssl req -new -x509 -nodes -sha256 -days 365 -key client_rsa_key.key -out client_rsa_key.cert\n",
    "```\n",
    "\n",
    "After answering some questions this'll result in a `client_rsa_key.cert` on your machine.\n",
    "\n",
    "### Generate a client public key\n",
    "\n",
    "```\n",
    "chmod client_rsa_key.key 400\n",
    "ssh-keygen -y -f client_rsa_key.key > client_rsa_key.pub\n",
    "```\n",
    "\n",
    "The first line is necessary because `ssh-keygen` will refuse to cooperate if the permissions on the file are not locked.\n",
    "\n",
    "### Repeat for the server\n",
    "\n",
    "```\n",
    "openssl genrsa 2048 > server_rsa_key.key\n",
    "openssl req -new -x509 -nodes -sha256 -days 365 -key server_rsa_key.key -out server_rsa_key.cert\n",
    "chmod server_rsa_key.key 400\n",
    "ssh-keygen -y -f server_rsa_key.key > server_rsa_key.pub\n",
    "```\n",
    "\n",
    "### Application code\n",
    "\n",
    "See [here](https://stackoverflow.com/questions/51522632/how-to-configure-an-ssl-certificate-for-an-application-that-runs-in-express) for example Node.JS application code.\n",
    "\n",
    "```javascript\n",
    "var https = require('https');\n",
    "var fs = require('fs');\n",
    "var express = require('express');\n",
    "\n",
    "var options = {\n",
    "    key: fs.readFileSync('/etc/apache2/ssl/server.key'),\n",
    "    cert: fs.readFileSync('/etc/apache2/ssl/server.crt'),\n",
    "    requestCert: false,\n",
    "    rejectUnauthorized: false\n",
    "};\n",
    "\n",
    "\n",
    "var app = express();\n",
    "\n",
    "var server = https.createServer(options, app).listen(3000, function(){\n",
    "    console.log(\"server started at port 3000\");\n",
    "});\n",
    "```\n",
    "\n",
    "Basically, get the cert and decide whether or not it is legit based on some kind of mechanism that you control. The most robust way to do this is to use Linux's built-in application store, then verify whether or not this certificate is trusted by the root certificate providers in the built-in.\n",
    "\n",
    "OpenSSL demonstration:"
   ]
  },
  {
   "cell_type": "code",
   "execution_count": 2,
   "metadata": {},
   "outputs": [
    {
     "name": "stdout",
     "output_type": "stream",
     "text": [
      "C = US, ST = Some-State, O = Internet Widgits Pty Ltd\r\n",
      "error 18 at 0 depth lookup: self signed certificate\r\n",
      "error ../server_rsa_key.cert: verification failed\r\n"
     ]
    }
   ],
   "source": [
    "!openssl verify ../server_rsa_key.cert"
   ]
  }
 ],
 "metadata": {
  "kernelspec": {
   "display_name": "Python 3",
   "language": "python",
   "name": "python3"
  },
  "language_info": {
   "codemirror_mode": {
    "name": "ipython",
    "version": 3
   },
   "file_extension": ".py",
   "mimetype": "text/x-python",
   "name": "python",
   "nbconvert_exporter": "python",
   "pygments_lexer": "ipython3",
   "version": "3.6.7"
  }
 },
 "nbformat": 4,
 "nbformat_minor": 2
}
